{
 "cells": [
  {
   "cell_type": "markdown",
   "id": "c1925ffe-30e5-43f7-8d0f-f2ff2a739f41",
   "metadata": {},
   "source": [
    "<h1>Make a Network Graph File</h1>\n",
    "This code will generate a file in gexf format so that you can visualise your network.\n",
    "This 'Jupyter Lab' workspace is made up of blocks of python code. To run each block click the 'play' button above.\n",
    "\n",
    "<h3>1. Load Libraries</h3>\n",
    "\n",
    "Python, the langaugae we are using here, is made up of libraries that we can use to help us. First we load the libraires we need."
   ]
  },
  {
   "cell_type": "code",
   "execution_count": null,
   "id": "feb42d6b-740e-4fa9-b476-764c64ef8d29",
   "metadata": {},
   "outputs": [],
   "source": [
    "from io import BytesIO\n",
    "import pandas as pd\n",
    "from ipywidgets import FileUpload\n",
    "import networkx as nx\n",
    "import math\n",
    "uploader = FileUpload(accept='.xlsx', multiple=True)"
   ]
  },
  {
   "cell_type": "markdown",
   "id": "ec13c968-6801-46c9-9943-eb67dac949dc",
   "metadata": {},
   "source": [
    "<h3>2. Upload your excel files</h3> \n",
    "\n",
    "We are comparing two projects. Run this next block of code then click upload to select your two excel files. If done correctly, the \"Upload(0)\" button should change to \"Upload(2)\" to show that you have uploaded 2 files. They must be excel files! "
   ]
  },
  {
   "cell_type": "code",
   "execution_count": null,
   "id": "c1dca3b3-68b9-4d81-8466-9aa3290fbe1e",
   "metadata": {
    "tags": []
   },
   "outputs": [],
   "source": [
    "uploader"
   ]
  },
  {
   "cell_type": "markdown",
   "id": "aaa7c5ed-a81d-4688-ae16-bbde05a10abe",
   "metadata": {},
   "source": [
    "<h3>3. Check your excel file</h3> \n",
    "\n",
    "Check the name of the file you have uploaded."
   ]
  },
  {
   "cell_type": "code",
   "execution_count": null,
   "id": "a3b32523-30b5-4ea9-9cf2-9dde1124c9dc",
   "metadata": {},
   "outputs": [],
   "source": [
    "roles = []\n",
    "for filename, fileinfo in uploader.value.items():\n",
    "    content = fileinfo['content']\n",
    "    try:\n",
    "        # Read Excel file\n",
    "        excel_data = pd.read_excel(BytesIO(content))\n",
    "        \n",
    "        # Display the dataframe\n",
    "        print(f\"Displaying content of: {filename}\")\n",
    "        display(excel_data)  # For Jupyter Notebook\n",
    "        roles = roles + list(excel_data['Role'])\n",
    "        \n",
    "    except Exception as e:\n",
    "        print(f\"Error reading {filename}: {e}\")"
   ]
  },
  {
   "cell_type": "markdown",
   "id": "12fca86c-0df4-4699-80a8-9fca9c0a7a62",
   "metadata": {},
   "source": [
    "<h3>4. Define Colours</h3>\n",
    "We can colour your graph based on the role of actors. Run the code below to get a list of all the actors in your projects."
   ]
  },
  {
   "cell_type": "code",
   "execution_count": null,
   "id": "9c6d98bf-f996-4cd5-8cf2-c6eaabe20ae9",
   "metadata": {},
   "outputs": [],
   "source": [
    "print(set(roles))"
   ]
  },
  {
   "cell_type": "markdown",
   "id": "96e59472-892d-40d4-8033-69bc528383c9",
   "metadata": {},
   "source": [
    "In the code below, colours have been given to different roles. \n",
    "- Update the list of roles to match your project.\n",
    "- give them 'rgb' colours.\n",
    "- Make sure that words match exactly (including uppercase, lowercase, and spaces).\n",
    "- Be careful not to change the syntax!\n",
    "- Add more lines if you need to."
   ]
  },
  {
   "cell_type": "code",
   "execution_count": null,
   "id": "650d3b84-4173-402b-a624-4b129f11f485",
   "metadata": {},
   "outputs": [],
   "source": [
    "roles = {\n",
    "    'contractor': {'r': 255, 'g': 0, 'b': 0},\n",
    "    'client': {'r': 0, 'g': 255, 'b': 0},\n",
    "    'design_team': {'r': 100, 'g': 0, 'b': 20},\n",
    "    'architect': {'r': 0, 'g': 100, 'b': 50},\n",
    "    'authority': {'r': 50, 'g': 50, 'b': 50},\n",
    "    'consultant': {'r': 75, 'g': 25, 'b': 25},\n",
    "}"
   ]
  },
  {
   "cell_type": "markdown",
   "id": "8fd49c47-0583-41f7-aec1-811868dda838",
   "metadata": {},
   "source": [
    "<h3>5. Create your network file</h3>\n",
    "\n",
    "Run the following block of code to generate a GEXF file for you network. If successful, you should see a 'done!' message appear below the code. If you haven't listed all of your roles, you will get an error!"
   ]
  },
  {
   "cell_type": "code",
   "execution_count": null,
   "id": "f8f91796-4e4c-4620-9d17-b9afa3f9b0f1",
   "metadata": {},
   "outputs": [],
   "source": [
    "def makeGraph(dfActor, dfPoint, filename):\n",
    "\n",
    "    try:\n",
    "        dfPoint = dfPoint.drop(['total'])\n",
    "        dfPoint = dfPoint.drop(columns=['total'])\n",
    "    except:\n",
    "        pass\n",
    "    \n",
    "    nodeDict = {}\n",
    "    for k,v in dfActor.iterrows():\n",
    "        nodeDict['{k}_{g}'.format(k=k, g=filename)] = {\n",
    "            'name': k,\n",
    "            'role': v['Role'],\n",
    "            'weight': [],\n",
    "        }\n",
    "    \n",
    "    edgeDict = {}\n",
    "    cols = list(dfPoint)\n",
    "    names = []\n",
    "    for col in cols:\n",
    "        try:\n",
    "            col = float(col)\n",
    "        except ValueError:\n",
    "            if col != 'total':\n",
    "                names.append(col)\n",
    "   \n",
    "    for k, v in dfPoint.iterrows():\n",
    "        if k in names:\n",
    "            n1 = '{k}_{g}'.format(k=k, g=filename)\n",
    "            \n",
    "            for name in names:\n",
    "                n2 = '{k}_{g}'.format(k=name, g=filename)\n",
    "                \n",
    "                if n1 != n2:\n",
    "                    edge = tuple(sorted([n1, n2]))\n",
    "                    edgeWeight = v[name]\n",
    "                          \n",
    "                    if edge not in edgeDict.keys():\n",
    "                        edgeDict[edge] = {\n",
    "                            'weight': []\n",
    "                        }\n",
    "\n",
    "                    if math.isnan(edgeWeight) == True:\n",
    "                        edgeWeight = 0\n",
    "                    edgeDict[edge]['weight'].append(edgeWeight)   \n",
    "                    nodeDict[n1]['weight'].append(edgeWeight)\n",
    "                    nodeDict[n2]['weight'].append(edgeWeight)\n",
    " \n",
    "    return nodeDict, edgeDict\n",
    "\n",
    "# iterate through stages\n",
    "for i in range(3):\n",
    "    sheet = 'Point{n}'.format(n=i+1)\n",
    "    print(sheet)\n",
    "\n",
    "    # Make graph\n",
    "    G = nx.Graph()\n",
    "    print(' ')\n",
    "    \n",
    "    for filename, fileinfo in uploader.value.items():\n",
    "        content = fileinfo['content']\n",
    "        dfActor = pd.read_excel(BytesIO(content), sheet_name='Actors', header=0, index_col=0)\n",
    "        dfPoint = pd.read_excel(BytesIO(content), sheet_name=sheet, header=0, index_col=0)\n",
    "\n",
    "        nodeDict, edgeDict = makeGraph(dfActor, dfPoint, filename)\n",
    "\n",
    "        for n in nodeDict.keys():\n",
    "            try:\n",
    "                weight = sum(nodeDict[n]['weight'])\n",
    "                if weight > node_max:\n",
    "                    node_max = weight\n",
    "            except:\n",
    "                pass\n",
    "\n",
    "        for n in nodeDict.keys():\n",
    "            try:\n",
    "                weight = sum(nodeDict[n]['weight'])\n",
    "            except:\n",
    "                weight = 0\n",
    "            name = nodeDict[n]['name']\n",
    "            role = nodeDict[n]['role']\n",
    "            G.add_node(n, label=name, role=role, size=weight)\n",
    "    \n",
    "        for e in edgeDict.keys():\n",
    "            try:\n",
    "                weight = sum(edgeDict[e]['weight'])\n",
    "            except:\n",
    "                weight = 0\n",
    "            edge_viz = {\n",
    "                'color': {'r': 0, 'g': 0, 'b': 0, 'a': 1.0},\n",
    "                }\n",
    "            if weight > 0:\n",
    "                G.add_edge(e[0], e[1], weight=weight, viz=edge_viz)\n",
    "\n",
    "    # normalise sizes\n",
    "    max_size = 8\n",
    "    min_size = 2\n",
    "\n",
    "    node_size = []\n",
    "    # Get all node sizes\n",
    "    node_sizes = nx.get_node_attributes(G, 'size')\n",
    "    for k,v in node_sizes.items():\n",
    "        node_size.append(v)\n",
    "\n",
    "    for n in G.nodes():\n",
    "        # Get the node's role and weight\n",
    "        role = G.nodes[n]['role']\n",
    "        size = G.nodes[n]['size']\n",
    "        # Normalize node size\n",
    "        normalised_size = min_size + (max_size - min_size) * (size - min(node_size)) / (max(node_size) - min(node_size))\n",
    "        # Create the viz dictionary with color and size\n",
    "        node_viz = {\n",
    "            'color': roles[role],  # Default to gray if role is not found\n",
    "            'size': normalised_size,  # Size based on normalized weight\n",
    "            'label': {'color': '#000000'}\n",
    "        }\n",
    "        # Merge viz attributes into the existing node attributes\n",
    "        current_viz = G.nodes[n].get('viz', {})\n",
    "        current_viz.update(node_viz)  # Merge existing viz with new viz attributes\n",
    "        G.nodes[n]['viz'] = current_viz\n",
    "        \n",
    "    max_edge = 5\n",
    "    min_edge = 1\n",
    "\n",
    "    edge_weight = []\n",
    "    # Get all edge sizes\n",
    "    edge_weights = nx.get_edge_attributes(G, 'weight')\n",
    "    for k,v in edge_weights.items():\n",
    "        edge_weight.append(v)\n",
    "\n",
    "    for e in G.edges():\n",
    "        # Get the edge's weight\n",
    "        weight = G.edges[e]['weight']\n",
    "        # Normalize node size\n",
    "        normalised_weight = min_edge + (max_edge - min_edge) * (weight - min(edge_weight)) / (max(edge_weight) - min(edge_weight))\n",
    "        # Update the node with the viz attributes\n",
    "        G.edges[e]['weight'] = normalised_weight\n",
    "       \n",
    "    # write file\n",
    "    new_filename = '{f}_GEXF.gexf'.format(f=sheet)\n",
    "    print('{f} created'.format(f=new_filename))\n",
    "    nx.write_gexf(G, new_filename)\n",
    "    print(' ')\n",
    "\n",
    "\n",
    "\n",
    "\n",
    "\n",
    "\n",
    "    \n",
    "\n",
    "print('done!')"
   ]
  },
  {
   "cell_type": "markdown",
   "id": "70bd47e8-bf5b-463f-87ef-f67691ca4bb6",
   "metadata": {},
   "source": [
    "<h3>6. Download your GEXF file!</h3>\n",
    "\n",
    "Finally, click the 'folder' symbol in the left hand panel to find your GEXF file. Right-click on the file and download to your computer!"
   ]
  }
 ],
 "metadata": {
  "kernelspec": {
   "display_name": "Python 3 (ipykernel)",
   "language": "python",
   "name": "python3"
  },
  "language_info": {
   "codemirror_mode": {
    "name": "ipython",
    "version": 3
   },
   "file_extension": ".py",
   "mimetype": "text/x-python",
   "name": "python",
   "nbconvert_exporter": "python",
   "pygments_lexer": "ipython3",
   "version": "3.12.7"
  }
 },
 "nbformat": 4,
 "nbformat_minor": 5
}
