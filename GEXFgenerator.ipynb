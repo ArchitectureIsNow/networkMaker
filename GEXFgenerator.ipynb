{
 "cells": [
  {
   "cell_type": "markdown",
   "id": "c1925ffe-30e5-43f7-8d0f-f2ff2a739f41",
   "metadata": {},
   "source": [
    "<h1>Make a Network Graph File</h1>\n",
    "This code will generate a file to upload into Gephi Lite so that you can visualise your network.\n",
    "\n",
    "This 'Jupyter Lab' workspace is made up of blocks of code. To run each block click the 'play' button above."
   ]
  },
  {
   "cell_type": "code",
   "execution_count": null,
   "id": "feb42d6b-740e-4fa9-b476-764c64ef8d29",
   "metadata": {},
   "outputs": [],
   "source": [
    "import io\n",
    "import pandas as pd\n",
    "from ipywidgets import FileUpload\n",
    "import networkx as nx\n",
    "import math\n",
    "upload = FileUpload(accept='.xlsx', multiple=False)"
   ]
  },
  {
   "cell_type": "markdown",
   "id": "ec13c968-6801-46c9-9943-eb67dac949dc",
   "metadata": {},
   "source": [
    "<h3>Upload your excel file</h3> \n",
    "\n",
    "Run this next block of code then click upload to select your excel file. If done correctly, the \"Upload(0)\" button should change to \"Upload(1)\" to show that you have uploaded 1 file. "
   ]
  },
  {
   "cell_type": "code",
   "execution_count": null,
   "id": "c1dca3b3-68b9-4d81-8466-9aa3290fbe1e",
   "metadata": {
    "tags": []
   },
   "outputs": [],
   "source": [
    "upload"
   ]
  },
  {
   "cell_type": "markdown",
   "id": "8fd49c47-0583-41f7-aec1-811868dda838",
   "metadata": {},
   "source": [
    "<h3>Create your network file</h3>\n",
    "\n",
    "Run the following block of code to generate a GEXF file for you network. If successful, you should see a 'done!' message appear below the code."
   ]
  },
  {
   "cell_type": "code",
   "execution_count": null,
   "id": "f8f91796-4e4c-4620-9d17-b9afa3f9b0f1",
   "metadata": {},
   "outputs": [],
   "source": [
    "def makeGraph(df, actors, graphName):\n",
    "\n",
    "    try:\n",
    "        df = df.drop(['total'])\n",
    "        df = df.drop(columns=['total'])\n",
    "    except:\n",
    "        pass\n",
    "    \n",
    "    nodeDict = {}\n",
    "    for k,v in actors.iterrows():\n",
    "        # print(k)\n",
    "        nodeDict['{k}_{g}'.format(k=k, g=graphName)] = {\n",
    "            'name': k,\n",
    "            'role': v['Role'],\n",
    "            'weight': [],\n",
    "        }\n",
    "    \n",
    "    edgeDict = {}\n",
    "    cols = list(df)\n",
    "    names = []\n",
    "    for col in cols:\n",
    "        try:\n",
    "            col = float(col)\n",
    "        except ValueError:\n",
    "            if col != 'total':\n",
    "                names.append(col)\n",
    "   \n",
    "    for k, v in df.iterrows():\n",
    "        if k in names:\n",
    "            n1 = '{k}_{g}'.format(k=k, g=graphName)\n",
    "            \n",
    "            for name in names:\n",
    "                n2 = '{k}_{g}'.format(k=name, g=graphName)\n",
    "                \n",
    "                if n1 != n2:\n",
    "                    edge = tuple(sorted([n1, n2]))\n",
    "                    edgeWeight = v[name]\n",
    "                          \n",
    "                    if edge not in edgeDict.keys():\n",
    "                        edgeDict[edge] = {\n",
    "                            'weight': []\n",
    "                        }\n",
    "\n",
    "                    if math.isnan(edgeWeight) == True:\n",
    "                        edgeWeight = 0\n",
    "                    edgeDict[edge]['weight'].append(edgeWeight)   \n",
    "                    nodeDict[n1]['weight'].append(edgeWeight)\n",
    "                    nodeDict[n2]['weight'].append(edgeWeight)\n",
    " \n",
    "    return nodeDict, edgeDict\n",
    "\n",
    "data = upload.value[0]\n",
    "dfActor = pd.read_excel(io.BytesIO(data['content']), sheet_name='Actors', header=0, index_col=0)\n",
    "\n",
    "# make graph\n",
    "G = nx.Graph()\n",
    "\n",
    "for stage in ('P1', 'P2', 'P3'):\n",
    "    print('{s} started ....'.format(s=stage))\n",
    "    df = pd.read_excel(io.BytesIO(data['content']), sheet_name='Point{n}'.format(n=stage[-1]), header=0, index_col=0)\n",
    "    nodeDict, edgeDict = makeGraph(df, dfActor, stage)\n",
    "    \n",
    "    for n in nodeDict.keys():\n",
    "        try:\n",
    "            weight = sum(nodeDict[n]['weight']) / len(nodeDict[n]['weight'])\n",
    "        except:\n",
    "            weight = 0\n",
    "        name = nodeDict[n]['name']\n",
    "        role = nodeDict[n]['role']\n",
    "        G.add_node(n, weight=weight, name=name, role=role)\n",
    "\n",
    "    for e in edgeDict.keys():\n",
    "        try:\n",
    "            weight = sum(edgeDict[e]['weight']) / len(edgeDict[e]['weight'])\n",
    "        except:\n",
    "            weight = 0\n",
    "        if weight > 0:\n",
    "            G.add_edge(e[0], e[1], weight=weight)\n",
    "\n",
    "    # write file\n",
    "    filename = data['name']\n",
    "    filename = '{f}_{n}_GEXF.gexf'.format(f=filename.split('.')[0], n=stage)\n",
    "    print('{f} created'.format(f=filename))\n",
    "    nx.write_gexf(G, filename)\n",
    "\n",
    "print('done!')"
   ]
  },
  {
   "cell_type": "markdown",
   "id": "70bd47e8-bf5b-463f-87ef-f67691ca4bb6",
   "metadata": {},
   "source": [
    "<h3>Download your GEXF file!</h3>\n",
    "\n",
    "Finally, click the 'folder' symbol in the left hand panel to find your GEXF file. Right-click on the file and download to your computer!"
   ]
  }
 ],
 "metadata": {
  "kernelspec": {
   "display_name": "Python 3 (ipykernel)",
   "language": "python",
   "name": "python3"
  },
  "language_info": {
   "codemirror_mode": {
    "name": "ipython",
    "version": 3
   },
   "file_extension": ".py",
   "mimetype": "text/x-python",
   "name": "python",
   "nbconvert_exporter": "python",
   "pygments_lexer": "ipython3",
   "version": "3.8.17"
  }
 },
 "nbformat": 4,
 "nbformat_minor": 5
}
