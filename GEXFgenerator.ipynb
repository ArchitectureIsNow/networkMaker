{
 "cells": [
  {
   "cell_type": "markdown",
   "id": "c1925ffe-30e5-43f7-8d0f-f2ff2a739f41",
   "metadata": {},
   "source": [
    "Run this code to view the upload button. Upload your excel file by clicking the upload button. The Upload(0) should change to Upload(1). The script will only work with the correct file so if you recieve error messages please let us know."
   ]
  },
  {
   "cell_type": "code",
   "execution_count": null,
   "id": "feb42d6b-740e-4fa9-b476-764c64ef8d29",
   "metadata": {},
   "outputs": [],
   "source": [
    "import io\n",
    "import pandas as pd\n",
    "from ipywidgets import FileUpload\n",
    "import networkx as nx\n",
    "import math\n",
    "upload = FileUpload()"
   ]
  },
  {
   "cell_type": "code",
   "execution_count": null,
   "id": "c425ae79-8cfa-49a2-a1b1-9ad81527d68d",
   "metadata": {},
   "outputs": [],
   "source": [
    "upload"
   ]
  },
  {
   "cell_type": "markdown",
   "id": "8fd49c47-0583-41f7-aec1-811868dda838",
   "metadata": {},
   "source": [
    "Once uploaded, run the following script to generate a GEXF file for you network"
   ]
  },
  {
   "cell_type": "code",
   "execution_count": null,
   "id": "f8f91796-4e4c-4620-9d17-b9afa3f9b0f1",
   "metadata": {},
   "outputs": [],
   "source": [
    "def makeGraph(df, actors, graphName):\n",
    "\n",
    "    try:\n",
    "        df = df.drop(['total'])\n",
    "        df = df.drop(columns=['total'])\n",
    "    except:\n",
    "        pass\n",
    "    \n",
    "    nodeDict = {}\n",
    "    for k,v in actors.iterrows():\n",
    "        # print(k)\n",
    "        nodeDict['{k}_{g}'.format(k=k, g=graphName)] = {\n",
    "            'name': k,\n",
    "            'role': v['Role'],\n",
    "            'weight': [],\n",
    "        }\n",
    "    \n",
    "    edgeDict = {}\n",
    "    cols = list(df)\n",
    "    names = []\n",
    "    for col in cols:\n",
    "        try:\n",
    "            col = float(col)\n",
    "        except ValueError:\n",
    "            if col != 'total':\n",
    "                names.append(col)\n",
    "   \n",
    "    for k, v in df.iterrows():\n",
    "        if k in names:\n",
    "            n1 = '{k}_{g}'.format(k=k, g=graphName)\n",
    "            \n",
    "            for name in names:\n",
    "                n2 = '{k}_{g}'.format(k=name, g=graphName)\n",
    "                \n",
    "                if n1 != n2:\n",
    "                    edge = tuple(sorted([n1, n2]))\n",
    "                    edgeWeight = v[name]\n",
    "                          \n",
    "                    if edge not in edgeDict.keys():\n",
    "                        edgeDict[edge] = {\n",
    "                            'weight': []\n",
    "                        }\n",
    "\n",
    "                    if math.isnan(edgeWeight) == True:\n",
    "                        edgeWeight = 0\n",
    "                    else:\n",
    "                        edgeDict[edge]['weight'].append(edgeWeight)   \n",
    "                        nodeDict[n1]['weight'].append(edgeWeight)\n",
    "                        nodeDict[n2]['weight'].append(edgeWeight)\n",
    " \n",
    "    return nodeDict, edgeDict\n",
    "\n",
    "data = upload.value[0]\n",
    "dfActor = pd.read_excel(io.BytesIO(data['content']), sheet_name='Actors', header=0, index_col=0)\n",
    "\n",
    "# make graph\n",
    "G = nx.Graph()\n",
    "\n",
    "for name in ('P1', 'P2', 'P3'):\n",
    "    df = pd.read_excel(io.BytesIO(data['content']), sheet_name='Point{n}'.format(n=name[-1]), header=0, index_col=0)\n",
    "    nodeDict, edgeDict = makeGraph(df, dfActor, name)\n",
    "    \n",
    "    for n in nodeDict.keys():\n",
    "        weight = sum(nodeDict[n]['weight']) / len(nodeDict[n]['weight'])\n",
    "        name = nodeDict[n]['name']\n",
    "        role = nodeDict[n]['role']\n",
    "        G.add_node(n, weight=weight, name=name, role=role)\n",
    "\n",
    "    for e in edgeDict.keys():\n",
    "        weight = sum(edgeDict[e]['weight']) / len(edgeDict[e]['weight'])\n",
    "        if weight > 0:\n",
    "            G.add_edge(e[0], e[1], weight=weight)\n",
    "\n",
    "# write file\n",
    "filename = data['name']\n",
    "filename = '{f}_GEXF.gexf'.format(f=filename.split('.')[0])\n",
    "nx.write_gexf(G, filename)\n",
    "\n",
    "print('done!')"
   ]
  },
  {
   "cell_type": "code",
   "execution_count": null,
   "id": "6028ceee-06ff-4ae2-840a-ef776bd239c4",
   "metadata": {
    "tags": []
   },
   "outputs": [],
   "source": [
    "%watermark"
   ]
  },
  {
   "cell_type": "code",
   "execution_count": null,
   "id": "7f64d5b1-d8dc-4948-beb1-820520f81d5c",
   "metadata": {
    "tags": []
   },
   "outputs": [],
   "source": [
    "%watermark --iversions"
   ]
  },
  {
   "cell_type": "code",
   "execution_count": null,
   "id": "55821464-6a3a-4ed8-b3c3-2b5f0c8072ab",
   "metadata": {},
   "outputs": [],
   "source": []
  }
 ],
 "metadata": {
  "kernelspec": {
   "display_name": "Python 3 (ipykernel)",
   "language": "python",
   "name": "python3"
  },
  "language_info": {
   "codemirror_mode": {
    "name": "ipython",
    "version": 3
   },
   "file_extension": ".py",
   "mimetype": "text/x-python",
   "name": "python",
   "nbconvert_exporter": "python",
   "pygments_lexer": "ipython3",
   "version": "3.8.17"
  }
 },
 "nbformat": 4,
 "nbformat_minor": 5
}
